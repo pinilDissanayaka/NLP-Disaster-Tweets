{
 "cells": [
  {
   "cell_type": "code",
   "execution_count": 1,
   "id": "8841515f",
   "metadata": {
    "_cell_guid": "b1076dfc-b9ad-4769-8c92-a6c4dae69d19",
    "_uuid": "8f2839f25d086af736a60e9eeb907d3b93b6e0e5",
    "execution": {
     "iopub.execute_input": "2023-10-16T14:00:26.466565Z",
     "iopub.status.busy": "2023-10-16T14:00:26.466081Z",
     "iopub.status.idle": "2023-10-16T14:00:26.857304Z",
     "shell.execute_reply": "2023-10-16T14:00:26.856004Z"
    },
    "papermill": {
     "duration": 0.399441,
     "end_time": "2023-10-16T14:00:26.859748",
     "exception": false,
     "start_time": "2023-10-16T14:00:26.460307",
     "status": "completed"
    },
    "tags": []
   },
   "outputs": [
    {
     "name": "stdout",
     "output_type": "stream",
     "text": [
      "/kaggle/input/nlp-getting-started/sample_submission.csv\n",
      "/kaggle/input/nlp-getting-started/train.csv\n",
      "/kaggle/input/nlp-getting-started/test.csv\n"
     ]
    }
   ],
   "source": [
    "# This Python 3 environment comes with many helpful analytics libraries installed\n",
    "# It is defined by the kaggle/python Docker image: https://github.com/kaggle/docker-python\n",
    "# For example, here's several helpful packages to load\n",
    "\n",
    "import numpy as np # linear algebra\n",
    "import pandas as pd # data processing, CSV file I/O (e.g. pd.read_csv)\n",
    "\n",
    "# Input data files are available in the read-only \"../input/\" directory\n",
    "# For example, running this (by clicking run or pressing Shift+Enter) will list all files under the input directory\n",
    "\n",
    "import os\n",
    "for dirname, _, filenames in os.walk('/kaggle/input'):\n",
    "    for filename in filenames:\n",
    "        print(os.path.join(dirname, filename))\n",
    "\n",
    "# You can write up to 20GB to the current directory (/kaggle/working/) that gets preserved as output when you create a version using \"Save & Run All\" \n",
    "# You can also write temporary files to /kaggle/temp/, but they won't be saved outside of the current session"
   ]
  },
  {
   "cell_type": "code",
   "execution_count": 2,
   "id": "ee9eb591",
   "metadata": {
    "execution": {
     "iopub.execute_input": "2023-10-16T14:00:26.869922Z",
     "iopub.status.busy": "2023-10-16T14:00:26.868890Z",
     "iopub.status.idle": "2023-10-16T14:00:26.956722Z",
     "shell.execute_reply": "2023-10-16T14:00:26.955465Z"
    },
    "papermill": {
     "duration": 0.09486,
     "end_time": "2023-10-16T14:00:26.959577",
     "exception": false,
     "start_time": "2023-10-16T14:00:26.864717",
     "status": "completed"
    },
    "tags": []
   },
   "outputs": [],
   "source": [
    "df_train = pd.read_csv('/kaggle/input/nlp-getting-started/train.csv')\n",
    "df_test = pd.read_csv('/kaggle/input/nlp-getting-started/test.csv')"
   ]
  },
  {
   "cell_type": "code",
   "execution_count": 3,
   "id": "1d07bb4d",
   "metadata": {
    "execution": {
     "iopub.execute_input": "2023-10-16T14:00:26.967623Z",
     "iopub.status.busy": "2023-10-16T14:00:26.967207Z",
     "iopub.status.idle": "2023-10-16T14:00:26.991398Z",
     "shell.execute_reply": "2023-10-16T14:00:26.990575Z"
    },
    "papermill": {
     "duration": 0.030623,
     "end_time": "2023-10-16T14:00:26.993508",
     "exception": false,
     "start_time": "2023-10-16T14:00:26.962885",
     "status": "completed"
    },
    "tags": []
   },
   "outputs": [
    {
     "data": {
      "text/html": [
       "<div>\n",
       "<style scoped>\n",
       "    .dataframe tbody tr th:only-of-type {\n",
       "        vertical-align: middle;\n",
       "    }\n",
       "\n",
       "    .dataframe tbody tr th {\n",
       "        vertical-align: top;\n",
       "    }\n",
       "\n",
       "    .dataframe thead th {\n",
       "        text-align: right;\n",
       "    }\n",
       "</style>\n",
       "<table border=\"1\" class=\"dataframe\">\n",
       "  <thead>\n",
       "    <tr style=\"text-align: right;\">\n",
       "      <th></th>\n",
       "      <th>id</th>\n",
       "      <th>keyword</th>\n",
       "      <th>location</th>\n",
       "      <th>text</th>\n",
       "      <th>target</th>\n",
       "    </tr>\n",
       "  </thead>\n",
       "  <tbody>\n",
       "    <tr>\n",
       "      <th>0</th>\n",
       "      <td>1</td>\n",
       "      <td>NaN</td>\n",
       "      <td>NaN</td>\n",
       "      <td>Our Deeds are the Reason of this #earthquake M...</td>\n",
       "      <td>1</td>\n",
       "    </tr>\n",
       "    <tr>\n",
       "      <th>1</th>\n",
       "      <td>4</td>\n",
       "      <td>NaN</td>\n",
       "      <td>NaN</td>\n",
       "      <td>Forest fire near La Ronge Sask. Canada</td>\n",
       "      <td>1</td>\n",
       "    </tr>\n",
       "    <tr>\n",
       "      <th>2</th>\n",
       "      <td>5</td>\n",
       "      <td>NaN</td>\n",
       "      <td>NaN</td>\n",
       "      <td>All residents asked to 'shelter in place' are ...</td>\n",
       "      <td>1</td>\n",
       "    </tr>\n",
       "    <tr>\n",
       "      <th>3</th>\n",
       "      <td>6</td>\n",
       "      <td>NaN</td>\n",
       "      <td>NaN</td>\n",
       "      <td>13,000 people receive #wildfires evacuation or...</td>\n",
       "      <td>1</td>\n",
       "    </tr>\n",
       "    <tr>\n",
       "      <th>4</th>\n",
       "      <td>7</td>\n",
       "      <td>NaN</td>\n",
       "      <td>NaN</td>\n",
       "      <td>Just got sent this photo from Ruby #Alaska as ...</td>\n",
       "      <td>1</td>\n",
       "    </tr>\n",
       "  </tbody>\n",
       "</table>\n",
       "</div>"
      ],
      "text/plain": [
       "   id keyword location                                               text  \\\n",
       "0   1     NaN      NaN  Our Deeds are the Reason of this #earthquake M...   \n",
       "1   4     NaN      NaN             Forest fire near La Ronge Sask. Canada   \n",
       "2   5     NaN      NaN  All residents asked to 'shelter in place' are ...   \n",
       "3   6     NaN      NaN  13,000 people receive #wildfires evacuation or...   \n",
       "4   7     NaN      NaN  Just got sent this photo from Ruby #Alaska as ...   \n",
       "\n",
       "   target  \n",
       "0       1  \n",
       "1       1  \n",
       "2       1  \n",
       "3       1  \n",
       "4       1  "
      ]
     },
     "execution_count": 3,
     "metadata": {},
     "output_type": "execute_result"
    }
   ],
   "source": [
    "df_train.head()"
   ]
  },
  {
   "cell_type": "code",
   "execution_count": 4,
   "id": "873552c7",
   "metadata": {
    "execution": {
     "iopub.execute_input": "2023-10-16T14:00:27.002601Z",
     "iopub.status.busy": "2023-10-16T14:00:27.001670Z",
     "iopub.status.idle": "2023-10-16T14:00:27.012611Z",
     "shell.execute_reply": "2023-10-16T14:00:27.011597Z"
    },
    "papermill": {
     "duration": 0.017767,
     "end_time": "2023-10-16T14:00:27.014753",
     "exception": false,
     "start_time": "2023-10-16T14:00:26.996986",
     "status": "completed"
    },
    "tags": []
   },
   "outputs": [
    {
     "data": {
      "text/html": [
       "<div>\n",
       "<style scoped>\n",
       "    .dataframe tbody tr th:only-of-type {\n",
       "        vertical-align: middle;\n",
       "    }\n",
       "\n",
       "    .dataframe tbody tr th {\n",
       "        vertical-align: top;\n",
       "    }\n",
       "\n",
       "    .dataframe thead th {\n",
       "        text-align: right;\n",
       "    }\n",
       "</style>\n",
       "<table border=\"1\" class=\"dataframe\">\n",
       "  <thead>\n",
       "    <tr style=\"text-align: right;\">\n",
       "      <th></th>\n",
       "      <th>id</th>\n",
       "      <th>keyword</th>\n",
       "      <th>location</th>\n",
       "      <th>text</th>\n",
       "    </tr>\n",
       "  </thead>\n",
       "  <tbody>\n",
       "    <tr>\n",
       "      <th>0</th>\n",
       "      <td>0</td>\n",
       "      <td>NaN</td>\n",
       "      <td>NaN</td>\n",
       "      <td>Just happened a terrible car crash</td>\n",
       "    </tr>\n",
       "    <tr>\n",
       "      <th>1</th>\n",
       "      <td>2</td>\n",
       "      <td>NaN</td>\n",
       "      <td>NaN</td>\n",
       "      <td>Heard about #earthquake is different cities, s...</td>\n",
       "    </tr>\n",
       "    <tr>\n",
       "      <th>2</th>\n",
       "      <td>3</td>\n",
       "      <td>NaN</td>\n",
       "      <td>NaN</td>\n",
       "      <td>there is a forest fire at spot pond, geese are...</td>\n",
       "    </tr>\n",
       "    <tr>\n",
       "      <th>3</th>\n",
       "      <td>9</td>\n",
       "      <td>NaN</td>\n",
       "      <td>NaN</td>\n",
       "      <td>Apocalypse lighting. #Spokane #wildfires</td>\n",
       "    </tr>\n",
       "    <tr>\n",
       "      <th>4</th>\n",
       "      <td>11</td>\n",
       "      <td>NaN</td>\n",
       "      <td>NaN</td>\n",
       "      <td>Typhoon Soudelor kills 28 in China and Taiwan</td>\n",
       "    </tr>\n",
       "  </tbody>\n",
       "</table>\n",
       "</div>"
      ],
      "text/plain": [
       "   id keyword location                                               text\n",
       "0   0     NaN      NaN                 Just happened a terrible car crash\n",
       "1   2     NaN      NaN  Heard about #earthquake is different cities, s...\n",
       "2   3     NaN      NaN  there is a forest fire at spot pond, geese are...\n",
       "3   9     NaN      NaN           Apocalypse lighting. #Spokane #wildfires\n",
       "4  11     NaN      NaN      Typhoon Soudelor kills 28 in China and Taiwan"
      ]
     },
     "execution_count": 4,
     "metadata": {},
     "output_type": "execute_result"
    }
   ],
   "source": [
    "df_test.head()"
   ]
  },
  {
   "cell_type": "code",
   "execution_count": 5,
   "id": "56a3e9c7",
   "metadata": {
    "execution": {
     "iopub.execute_input": "2023-10-16T14:00:27.023940Z",
     "iopub.status.busy": "2023-10-16T14:00:27.023546Z",
     "iopub.status.idle": "2023-10-16T14:00:27.029615Z",
     "shell.execute_reply": "2023-10-16T14:00:27.028782Z"
    },
    "papermill": {
     "duration": 0.012701,
     "end_time": "2023-10-16T14:00:27.031536",
     "exception": false,
     "start_time": "2023-10-16T14:00:27.018835",
     "status": "completed"
    },
    "tags": []
   },
   "outputs": [
    {
     "data": {
      "text/plain": [
       "(7613, 5)"
      ]
     },
     "execution_count": 5,
     "metadata": {},
     "output_type": "execute_result"
    }
   ],
   "source": [
    "df_train.shape"
   ]
  },
  {
   "cell_type": "code",
   "execution_count": 6,
   "id": "7e1f6f6d",
   "metadata": {
    "execution": {
     "iopub.execute_input": "2023-10-16T14:00:27.040418Z",
     "iopub.status.busy": "2023-10-16T14:00:27.039988Z",
     "iopub.status.idle": "2023-10-16T14:00:27.046357Z",
     "shell.execute_reply": "2023-10-16T14:00:27.045302Z"
    },
    "papermill": {
     "duration": 0.013659,
     "end_time": "2023-10-16T14:00:27.048656",
     "exception": false,
     "start_time": "2023-10-16T14:00:27.034997",
     "status": "completed"
    },
    "tags": []
   },
   "outputs": [
    {
     "data": {
      "text/plain": [
       "(3263, 4)"
      ]
     },
     "execution_count": 6,
     "metadata": {},
     "output_type": "execute_result"
    }
   ],
   "source": [
    "df_test.shape"
   ]
  },
  {
   "cell_type": "code",
   "execution_count": 7,
   "id": "b04e870b",
   "metadata": {
    "execution": {
     "iopub.execute_input": "2023-10-16T14:00:27.057883Z",
     "iopub.status.busy": "2023-10-16T14:00:27.057552Z",
     "iopub.status.idle": "2023-10-16T14:00:27.081591Z",
     "shell.execute_reply": "2023-10-16T14:00:27.080797Z"
    },
    "papermill": {
     "duration": 0.031194,
     "end_time": "2023-10-16T14:00:27.083592",
     "exception": false,
     "start_time": "2023-10-16T14:00:27.052398",
     "status": "completed"
    },
    "tags": []
   },
   "outputs": [
    {
     "data": {
      "text/plain": [
       "0"
      ]
     },
     "execution_count": 7,
     "metadata": {},
     "output_type": "execute_result"
    }
   ],
   "source": [
    "df_train.duplicated().sum()"
   ]
  },
  {
   "cell_type": "code",
   "execution_count": 8,
   "id": "5d96776f",
   "metadata": {
    "execution": {
     "iopub.execute_input": "2023-10-16T14:00:27.092602Z",
     "iopub.status.busy": "2023-10-16T14:00:27.092239Z",
     "iopub.status.idle": "2023-10-16T14:00:27.101969Z",
     "shell.execute_reply": "2023-10-16T14:00:27.100848Z"
    },
    "papermill": {
     "duration": 0.016916,
     "end_time": "2023-10-16T14:00:27.104171",
     "exception": false,
     "start_time": "2023-10-16T14:00:27.087255",
     "status": "completed"
    },
    "tags": []
   },
   "outputs": [
    {
     "data": {
      "text/plain": [
       "0"
      ]
     },
     "execution_count": 8,
     "metadata": {},
     "output_type": "execute_result"
    }
   ],
   "source": [
    "df_test.duplicated().sum()"
   ]
  },
  {
   "cell_type": "code",
   "execution_count": 9,
   "id": "ebae1413",
   "metadata": {
    "execution": {
     "iopub.execute_input": "2023-10-16T14:00:27.113437Z",
     "iopub.status.busy": "2023-10-16T14:00:27.113063Z",
     "iopub.status.idle": "2023-10-16T14:00:27.123115Z",
     "shell.execute_reply": "2023-10-16T14:00:27.121957Z"
    },
    "papermill": {
     "duration": 0.017517,
     "end_time": "2023-10-16T14:00:27.125489",
     "exception": false,
     "start_time": "2023-10-16T14:00:27.107972",
     "status": "completed"
    },
    "tags": []
   },
   "outputs": [
    {
     "data": {
      "text/plain": [
       "id             0\n",
       "keyword       61\n",
       "location    2533\n",
       "text           0\n",
       "target         0\n",
       "dtype: int64"
      ]
     },
     "execution_count": 9,
     "metadata": {},
     "output_type": "execute_result"
    }
   ],
   "source": [
    "df_train.isnull().sum()"
   ]
  },
  {
   "cell_type": "code",
   "execution_count": 10,
   "id": "faded682",
   "metadata": {
    "execution": {
     "iopub.execute_input": "2023-10-16T14:00:27.135490Z",
     "iopub.status.busy": "2023-10-16T14:00:27.134794Z",
     "iopub.status.idle": "2023-10-16T14:00:27.148122Z",
     "shell.execute_reply": "2023-10-16T14:00:27.146833Z"
    },
    "papermill": {
     "duration": 0.021229,
     "end_time": "2023-10-16T14:00:27.150596",
     "exception": false,
     "start_time": "2023-10-16T14:00:27.129367",
     "status": "completed"
    },
    "tags": []
   },
   "outputs": [],
   "source": [
    "drop_col = ['id', 'keyword', 'location']\n",
    "df_train.drop(columns = drop_col, axis = 1, inplace = True)\n",
    "df_test.drop(columns = drop_col, axis = 1, inplace = True)"
   ]
  },
  {
   "cell_type": "code",
   "execution_count": null,
   "id": "474d9ef4",
   "metadata": {
    "papermill": {
     "duration": 0.00338,
     "end_time": "2023-10-16T14:00:27.157740",
     "exception": false,
     "start_time": "2023-10-16T14:00:27.154360",
     "status": "completed"
    },
    "tags": []
   },
   "outputs": [],
   "source": []
  }
 ],
 "metadata": {
  "kernelspec": {
   "display_name": "Python 3",
   "language": "python",
   "name": "python3"
  },
  "language_info": {
   "codemirror_mode": {
    "name": "ipython",
    "version": 3
   },
   "file_extension": ".py",
   "mimetype": "text/x-python",
   "name": "python",
   "nbconvert_exporter": "python",
   "pygments_lexer": "ipython3",
   "version": "3.10.12"
  },
  "papermill": {
   "default_parameters": {},
   "duration": 4.574064,
   "end_time": "2023-10-16T14:00:27.682483",
   "environment_variables": {},
   "exception": null,
   "input_path": "__notebook__.ipynb",
   "output_path": "__notebook__.ipynb",
   "parameters": {},
   "start_time": "2023-10-16T14:00:23.108419",
   "version": "2.4.0"
  }
 },
 "nbformat": 4,
 "nbformat_minor": 5
}
